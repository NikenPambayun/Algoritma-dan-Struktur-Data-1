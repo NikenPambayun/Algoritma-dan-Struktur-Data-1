{
 "cells": [
  {
   "cell_type": "code",
   "execution_count": 5,
   "metadata": {},
   "outputs": [
    {
     "name": "stdout",
     "output_type": "stream",
     "text": [
      "Hasil 7 + 3 = 10\n",
      "Hasil 7 - 3 = 4\n",
      "Hasil 7 * 3 = 21\n",
      "Hasil 7 / 3 = 2.3333333333333335\n",
      "Hasil 7 % 3 = 1\n",
      "Hasil 7 ** 3 = 343\n"
     ]
    }
   ],
   "source": [
    "#RR. Niken Pambayun Dyah Setyawati\n",
    "\n",
    "k = 7\n",
    "l = 3\n",
    "\n",
    "#menggunakan operator penjumlahan\n",
    "m = k + l\n",
    "print (\"Hasil\", k, \"+\", l, \"=\", m)\n",
    "\n",
    "#menggunakan operator pengurangan\n",
    "m = k - l\n",
    "print (\"Hasil\", k, \"-\", l, \"=\", m)\n",
    "\n",
    "#menggunakan operator perkalian\n",
    "m = k * l\n",
    "print (\"Hasil\", k, \"*\", l, \"=\", m)\n",
    "\n",
    "#menggunakan operator pembagian\n",
    "m = k / l\n",
    "print (\"Hasil\", k, \"/\", l, \"=\", m)\n",
    "\n",
    "#menggunakan operator sisa bagi\n",
    "m = k % l\n",
    "print (\"Hasil\", k, \"%\", l, \"=\", m)\n",
    "\n",
    "#menggunakan operator pemangkatan\n",
    "m = k ** l\n",
    "print (\"Hasil\", k, \"**\", l, \"=\", m)"
   ]
  },
  {
   "cell_type": "code",
   "execution_count": 20,
   "metadata": {},
   "outputs": [
    {
     "name": "stdout",
     "output_type": "stream",
     "text": [
      "26\n",
      "Hasil setelah di tambah 4 adalah  30\n",
      "Hasil setelah di kurangi 4 adalah  26\n",
      "Hasil setelah di kali 4 adalah  104\n",
      "Hasil setelah di bagi 4 adalah  26.0\n",
      "Hasil sisa baginya adalah  2.0\n",
      "Hasil setelah di pangkatkan 4 adalah  16.0\n"
     ]
    }
   ],
   "source": [
    "#RR. Niken Pambayun Dyah Setyawati\n",
    "#operator penugasan untuk mengisi nilai\n",
    "\n",
    "x= 26\n",
    "print (x)\n",
    "\n",
    "#jumlahkan nilai x dengan operator penugasan untuk menjumlahkan\n",
    "x += 4\n",
    "print (\"Hasil setelah di tambah 4 adalah \", (x))\n",
    "\n",
    "#kurangkan nilai x dengan operator penugasan untuk mengurangi\n",
    "x -= 4\n",
    "print (\"Hasil setelah di kurangi 4 adalah \", (x))\n",
    "\n",
    "#kalikan nilai x dengan operator penugasan untuk perkalian\n",
    "x *= 4\n",
    "print (\"Hasil setelah di kali 4 adalah \", (x))\n",
    "\n",
    "#bagi nilai x dengan operator penugasan untuk pembagian\n",
    "x /= 4\n",
    "print (\"Hasil setelah di bagi 4 adalah \", (x))\n",
    "\n",
    "#sisa bagi nilai x dengan operator penugasan untuk sisa bagi\n",
    "x %= 4\n",
    "print (\"Hasil sisa baginya adalah \", (x))\n",
    "\n",
    "#pangkatkan nilai x dengan operator penugasan untuk pemangkatan\n",
    "x **= 4\n",
    "print (\"Hasil setelah di pangkatkan 4 adalah \", (x))"
   ]
  },
  {
   "cell_type": "code",
   "execution_count": 24,
   "metadata": {},
   "outputs": [
    {
     "name": "stdout",
     "output_type": "stream",
     "text": [
      "Apakah a lebih besar b:  True\n",
      "Apakah a lebih kecil b:  False\n",
      "Apakah a sama dengan b:  False\n",
      "Apakah a tidak sama dengan b:  True\n",
      "Apakah a lebih besar sama dengan b:  True\n",
      "Apakah a lebih kecil sama dengan b:  False\n"
     ]
    }
   ],
   "source": [
    "a = 26\n",
    "b = 10\n",
    "\n",
    "#apakah a lebih besar b?\n",
    "x = a > b\n",
    "print (\"Apakah a lebih besar b: \", x)\n",
    "\n",
    "#apakah a lebih kecil b?\n",
    "x = a < b\n",
    "print (\"Apakah a lebih kecil b: \", x)\n",
    "\n",
    "#apakah a sama dengan b?\n",
    "x = a == b\n",
    "print (\"Apakah a sama dengan b: \", x)\n",
    "\n",
    "#apakah a tidak sama dengan b?\n",
    "x = a != b\n",
    "print (\"Apakah a tidak sama dengan b: \", x)\n",
    "\n",
    "#apakah a lebih besar sama dengan b?\n",
    "x = a >= b\n",
    "print (\"Apakah a lebih besar sama dengan b: \", x)\n",
    "\n",
    "#apakah a lebih kecil sama dengan b?\n",
    "x = a <= b\n",
    "print (\"Apakah a lebih kecil sama dengan b: \", x)"
   ]
  },
  {
   "cell_type": "code",
   "execution_count": 1,
   "metadata": {},
   "outputs": [
    {
     "name": "stdout",
     "output_type": "stream",
     "text": [
      "False\n",
      "True\n",
      "True\n"
     ]
    }
   ],
   "source": [
    "#RR. Niken Pambayun Dyah Setyawati\n",
    "\n",
    "x = True\n",
    "y = False\n",
    "\n",
    "#logika AND\n",
    "z = x and y\n",
    "print (z)\n",
    "\n",
    "#logika OR\n",
    "z = x or y\n",
    "print (z)\n",
    "\n",
    "#logika NOT\n",
    "z = x | y\n",
    "print (z)"
   ]
  },
  {
   "cell_type": "code",
   "execution_count": 11,
   "metadata": {},
   "outputs": [
    {
     "name": "stdout",
     "output_type": "stream",
     "text": [
      "Masukkan nama bayi : Aqila\n",
      "Masukkan berat bayi : 2.7\n",
      "berat badan dalam ons :  27.0 ons\n",
      "berat Aqila 1 bulan ke depan adalah 57.0 ons\n"
     ]
    }
   ],
   "source": [
    "#RR. Niken Pambayun Dyah Setyawati\n",
    "\n",
    "nama = input (\"Masukkan nama bayi : \")\n",
    "berat = float (input (\"Masukkan berat bayi : \"))\n",
    "\n",
    "berat_ons = berat * 10\n",
    "\n",
    "print (\"berat badan dalam ons : \", berat_ons, \"ons\")\n",
    "print (\"berat\", nama, \"1 bulan ke depan adalah\", berat_ons+30, \"ons\")"
   ]
  },
  {
   "cell_type": "code",
   "execution_count": null,
   "metadata": {},
   "outputs": [],
   "source": []
  }
 ],
 "metadata": {
  "kernelspec": {
   "display_name": "Python 3",
   "language": "python",
   "name": "python3"
  },
  "language_info": {
   "codemirror_mode": {
    "name": "ipython",
    "version": 3
   },
   "file_extension": ".py",
   "mimetype": "text/x-python",
   "name": "python",
   "nbconvert_exporter": "python",
   "pygments_lexer": "ipython3",
   "version": "3.8.3"
  }
 },
 "nbformat": 4,
 "nbformat_minor": 4
}
