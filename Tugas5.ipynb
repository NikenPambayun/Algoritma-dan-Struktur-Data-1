{
 "cells": [
  {
   "cell_type": "code",
   "execution_count": 3,
   "metadata": {},
   "outputs": [
    {
     "name": "stdout",
     "output_type": "stream",
     "text": [
      "I like programming\n",
      "Because I proud to make something new\n"
     ]
    }
   ],
   "source": [
    "#RR. Niken Pambayun Dyah Setyawati\n",
    "\n",
    "#membuat fungsi 1\n",
    "def a():\n",
    "    print (\"Because I proud to make something new\")\n",
    "#membuat fungsi 2\n",
    "def b():\n",
    "    print (\"I like programming\")\n",
    "#pemanggilan fungsi 1 dan 2\n",
    "b()\n",
    "a()"
   ]
  },
  {
   "cell_type": "code",
   "execution_count": 17,
   "metadata": {},
   "outputs": [
    {
     "name": "stdout",
     "output_type": "stream",
     "text": [
      "Nama RR. Niken Pambayun Dyah Setyawati\n",
      "Luas persegi panjang adalah 50\n",
      "Luas persegi panjang adalah 5000\n"
     ]
    }
   ],
   "source": [
    "#RR. Niken Pambayun Dyah Setyawati\n",
    "\n",
    "def nama():\n",
    "    nama= input (\"Nama \")\n",
    "def luas_persegi_panjang (panjang, lebar):\n",
    "    luas=(panjang * lebar)\n",
    "    print (\"Luas persegi panjang adalah\", luas);\n",
    "    \n",
    "nama()    \n",
    "luas_persegi_panjang (5, 10)\n",
    "luas_persegi_panjang (100, 50)"
   ]
  },
  {
   "cell_type": "code",
   "execution_count": 42,
   "metadata": {},
   "outputs": [
    {
     "name": "stdout",
     "output_type": "stream",
     "text": [
      "panjang = 5\n",
      "lebar = 4\n",
      "tinggi = 10\n",
      "Luas persegi panjang 20\n",
      "volume balok 200\n"
     ]
    }
   ],
   "source": [
    "#RR. Niken Pambayun Dyah Setyawati\n",
    "\n",
    "panjang = int (input (\"panjang = \"))\n",
    "lebar = int (input (\"lebar = \")) \n",
    "tinggi = int (input (\"tinggi = \"))\n",
    "    \n",
    "def luas_pp():\n",
    "    luas = panjang * lebar\n",
    "    return luas\n",
    "\n",
    "def volume_balok():\n",
    "    volume = luas_pp() * tinggi\n",
    "    return volume\n",
    "\n",
    "\n",
    "print (\"Luas persegi panjang\", luas_pp())\n",
    "print (\"volume balok\", volume_balok())"
   ]
  },
  {
   "cell_type": "code",
   "execution_count": 6,
   "metadata": {},
   "outputs": [
    {
     "name": "stdout",
     "output_type": "stream",
     "text": [
      "Angka Pertama: 8\n",
      "Angka Kedua: 6\n",
      "Angka pertama sama dengan Angka kedua adalah:  False\n",
      "Angka pertama lebih besar dari Angka kedua:  True\n"
     ]
    }
   ],
   "source": [
    "#RR. Niken Pambayun Dyah Setyawati\n",
    "#input, fungsi, operator logika\n",
    "\n",
    "angka1 = int (input (\"Angka Pertama: \"))\n",
    "angka2 = int (input (\"Angka Kedua: \"))\n",
    "\n",
    "def fungsi_operator1():\n",
    "    operator1 = angka1 == angka2\n",
    "    print (\"Angka pertama sama dengan Angka kedua adalah: \", operator1)\n",
    "\n",
    "def fungsi_operator2():\n",
    "    operator2= angka1 > angka2\n",
    "    print (\"Angka pertama lebih besar dari Angka kedua: \", operator2)\n",
    "           \n",
    "fungsi_operator1()\n",
    "fungsi_operator2()"
   ]
  },
  {
   "cell_type": "code",
   "execution_count": null,
   "metadata": {},
   "outputs": [],
   "source": []
  }
 ],
 "metadata": {
  "kernelspec": {
   "display_name": "Python 3",
   "language": "python",
   "name": "python3"
  },
  "language_info": {
   "codemirror_mode": {
    "name": "ipython",
    "version": 3
   },
   "file_extension": ".py",
   "mimetype": "text/x-python",
   "name": "python",
   "nbconvert_exporter": "python",
   "pygments_lexer": "ipython3",
   "version": "3.8.3"
  }
 },
 "nbformat": 4,
 "nbformat_minor": 4
}
