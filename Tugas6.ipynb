{
 "cells": [
  {
   "cell_type": "code",
   "execution_count": 21,
   "metadata": {
    "scrolled": true
   },
   "outputs": [
    {
     "name": "stdout",
     "output_type": "stream",
     "text": [
      "Masukkan nilai: 67.8\n",
      "Kamu harus remidi\n"
     ]
    }
   ],
   "source": [
    "#RR. Niken Pambayun Dyah Setyawati\n",
    "\n",
    "nilai = float (input (\"Masukkan nilai: \"))\n",
    "\n",
    "if nilai < 70:\n",
    "    print (\"Kamu harus remidi\")"
   ]
  },
  {
   "cell_type": "code",
   "execution_count": 22,
   "metadata": {},
   "outputs": [
    {
     "name": "stdout",
     "output_type": "stream",
     "text": [
      "Masukkan nilai: 90\n"
     ]
    }
   ],
   "source": [
    "#RR. Niken Pambayun Dyah Setyawati\n",
    "\n",
    "nilai = int (input (\"Masukkan nilai: \"))\n",
    "\n",
    "if nilai < 70:\n",
    "    print (\"Kamu harus remidi\")"
   ]
  },
  {
   "cell_type": "code",
   "execution_count": 17,
   "metadata": {},
   "outputs": [
    {
     "name": "stdout",
     "output_type": "stream",
     "text": [
      "Masukkan Jari-jari: 5\n",
      "L Lingkaran:  78.5\n",
      "Lingkaran ini kecil\n"
     ]
    }
   ],
   "source": [
    "#RR. Niken Pambayun Dyah Setyawati\n",
    "\n",
    "r = int (input (\"Masukkan Jari-jari: \"))\n",
    "L = 3.14 * r * r\n",
    "print (\"L Lingkaran: \", L)\n",
    "\n",
    "if L > 314:\n",
    "    print (\"Lingkaran ini besar\")\n",
    "else:\n",
    "    print (\"Lingkaran ini kecil\")"
   ]
  },
  {
   "cell_type": "code",
   "execution_count": 27,
   "metadata": {},
   "outputs": [
    {
     "name": "stdout",
     "output_type": "stream",
     "text": [
      "Masukkan nomor program: 1\n",
      "panjang = 5\n",
      "lebar = 4\n",
      "tinggi = 10\n",
      "Volume balok:  200\n"
     ]
    }
   ],
   "source": [
    "def VB():\n",
    "    p = int (input (\"panjang = \"))\n",
    "    l = int (input (\"lebar = \")) \n",
    "    t = int (input (\"tinggi = \"))\n",
    "    v_balok = p*l*t\n",
    "    return v_balok\n",
    " \n",
    "def VK():\n",
    "    s = int (input (\"sisi = \"))\n",
    "    v_kubus = s*s*s\n",
    "    return v_kubus\n",
    "\n",
    "program = int (input (\"Masukkan nomor program: \"))\n",
    "\n",
    "if program == 1:\n",
    "    print (\"Volume balok: \", VB())\n",
    "elif program == 2:\n",
    "    print (\"Volume kubus: \", VK())\n",
    "else:\n",
    "    print (\"tidak ada program\")"
   ]
  },
  {
   "cell_type": "code",
   "execution_count": null,
   "metadata": {},
   "outputs": [],
   "source": []
  }
 ],
 "metadata": {
  "kernelspec": {
   "display_name": "Python 3",
   "language": "python",
   "name": "python3"
  },
  "language_info": {
   "codemirror_mode": {
    "name": "ipython",
    "version": 3
   },
   "file_extension": ".py",
   "mimetype": "text/x-python",
   "name": "python",
   "nbconvert_exporter": "python",
   "pygments_lexer": "ipython3",
   "version": "3.8.3"
  }
 },
 "nbformat": 4,
 "nbformat_minor": 4
}
