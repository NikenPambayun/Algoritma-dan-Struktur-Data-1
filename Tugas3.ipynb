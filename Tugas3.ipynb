{
 "cells": [
  {
   "cell_type": "code",
   "execution_count": 2,
   "metadata": {},
   "outputs": [
    {
     "name": "stdout",
     "output_type": "stream",
     "text": [
      "26\n"
     ]
    },
    {
     "ename": "NameError",
     "evalue": "name 'tanggal_lahir' is not defined",
     "output_type": "error",
     "traceback": [
      "\u001b[1;31m---------------------------------------------------------------------------\u001b[0m",
      "\u001b[1;31mNameError\u001b[0m                                 Traceback (most recent call last)",
      "\u001b[1;32m<ipython-input-2-028bc938cdcc>\u001b[0m in \u001b[0;36m<module>\u001b[1;34m\u001b[0m\n\u001b[0;32m      6\u001b[0m \u001b[1;33m\u001b[0m\u001b[0m\n\u001b[0;32m      7\u001b[0m \u001b[1;32mdel\u001b[0m\u001b[1;33m(\u001b[0m\u001b[0mtanggal_lahir\u001b[0m\u001b[1;33m)\u001b[0m     \u001b[1;31m#hapus tanggal_lahir\u001b[0m\u001b[1;33m\u001b[0m\u001b[1;33m\u001b[0m\u001b[0m\n\u001b[1;32m----> 8\u001b[1;33m \u001b[0mprint\u001b[0m \u001b[1;33m(\u001b[0m\u001b[0mtanggal_lahir\u001b[0m\u001b[1;33m)\u001b[0m\u001b[1;33m\u001b[0m\u001b[1;33m\u001b[0m\u001b[0m\n\u001b[0m",
      "\u001b[1;31mNameError\u001b[0m: name 'tanggal_lahir' is not defined"
     ]
    }
   ],
   "source": [
    "#RR Niken Pambayun Dyah Setyawati\n",
    "\n",
    "tanggal_lahir = 26     #variabel:tanggal_lahir\n",
    "\n",
    "print (tanggal_lahir)  #cetak tanggal_lahir\n",
    "\n",
    "del(tanggal_lahir)     #hapus tanggal_lahir\n",
    "print (tanggal_lahir)"
   ]
  },
  {
   "cell_type": "code",
   "execution_count": 20,
   "metadata": {},
   "outputs": [
    {
     "name": "stdout",
     "output_type": "stream",
     "text": [
      "keliling lingkaran sama dengan 314.0\n"
     ]
    }
   ],
   "source": [
    "#RR.Niken Pambayun Dyah Setyawati\n",
    "\n",
    "r = 50\n",
    "phi = 3.14\n",
    "keliling = 2*phi*r\n",
    "\n",
    "print (\"keliling lingkaran sama dengan\", (keliling))"
   ]
  },
  {
   "cell_type": "code",
   "execution_count": 10,
   "metadata": {},
   "outputs": [
    {
     "name": "stdout",
     "output_type": "stream",
     "text": [
      "True\n"
     ]
    }
   ],
   "source": [
    "#RR.Niken Pambayun Dyah Setyawati\n",
    "\n",
    "perbandingan = 10000>500\n",
    "\n",
    "print (perbandingan)"
   ]
  },
  {
   "cell_type": "code",
   "execution_count": 11,
   "metadata": {},
   "outputs": [
    {
     "name": "stdout",
     "output_type": "stream",
     "text": [
      "False\n"
     ]
    }
   ],
   "source": [
    "#RR.Niken Pambayun Dyah Setyawati\n",
    "\n",
    "perbandingan = 5>25\n",
    "\n",
    "print (perbandingan)"
   ]
  },
  {
   "cell_type": "code",
   "execution_count": 16,
   "metadata": {},
   "outputs": [
    {
     "name": "stdout",
     "output_type": "stream",
     "text": [
      "64.0\n",
      "0b1000000\n",
      "0x40\n"
     ]
    }
   ],
   "source": [
    "#RR.Niken Pambayun Dyah Setyawati\n",
    "\n",
    "a = 64\n",
    "\n",
    "print (float (a))\n",
    "print (bin (a))\n",
    "print (hex (a))"
   ]
  },
  {
   "cell_type": "code",
   "execution_count": 41,
   "metadata": {},
   "outputs": [
    {
     "name": "stdout",
     "output_type": "stream",
     "text": [
      "\n",
      "Biodata Mahasiswa\n",
      "Nama : RR Niken Pambayun Dyah Setyawati\n",
      "NIM : 20090006\n",
      "\n",
      "Dia Mahasiswa semester 5 yang berprestasi, karena memiliki ipk 3.95\n"
     ]
    },
    {
     "ename": "NameError",
     "evalue": "name 'ipk' is not defined",
     "output_type": "error",
     "traceback": [
      "\u001b[1;31m---------------------------------------------------------------------------\u001b[0m",
      "\u001b[1;31mNameError\u001b[0m                                 Traceback (most recent call last)",
      "\u001b[1;32m<ipython-input-41-e75a6e8871ba>\u001b[0m in \u001b[0;36m<module>\u001b[1;34m\u001b[0m\n\u001b[0;32m     12\u001b[0m \u001b[0mprint\u001b[0m \u001b[1;33m(\u001b[0m\u001b[1;34m\"Dia Mahasiswa semester\"\u001b[0m\u001b[1;33m,\u001b[0m \u001b[0msemester\u001b[0m\u001b[1;33m,\u001b[0m \u001b[1;34m\"yang berprestasi, karena memiliki ipk\"\u001b[0m\u001b[1;33m,\u001b[0m \u001b[0mipk\u001b[0m\u001b[1;33m)\u001b[0m\u001b[1;33m\u001b[0m\u001b[1;33m\u001b[0m\u001b[0m\n\u001b[0;32m     13\u001b[0m \u001b[1;32mdel\u001b[0m \u001b[1;33m(\u001b[0m\u001b[0mipk\u001b[0m\u001b[1;33m)\u001b[0m\u001b[1;33m\u001b[0m\u001b[1;33m\u001b[0m\u001b[0m\n\u001b[1;32m---> 14\u001b[1;33m \u001b[0mprint\u001b[0m \u001b[1;33m(\u001b[0m\u001b[0mipk\u001b[0m\u001b[1;33m)\u001b[0m\u001b[1;33m\u001b[0m\u001b[1;33m\u001b[0m\u001b[0m\n\u001b[0m",
      "\u001b[1;31mNameError\u001b[0m: name 'ipk' is not defined"
     ]
    }
   ],
   "source": [
    "#RR.Niken Pambayun Dyah Setyawati\n",
    "\n",
    "biodata = \"\"\"\n",
    "Biodata Mahasiswa\n",
    "Nama : RR Niken Pambayun Dyah Setyawati\n",
    "NIM : 20090006\n",
    "\"\"\"\n",
    "semester = 5\n",
    "ipk = 3.95\n",
    "\n",
    "print (biodata)\n",
    "print (\"Dia Mahasiswa semester\", semester, \"yang berprestasi, karena memiliki ipk\", ipk)\n",
    "del (ipk)\n",
    "print (ipk)"
   ]
  },
  {
   "cell_type": "code",
   "execution_count": null,
   "metadata": {},
   "outputs": [],
   "source": []
  }
 ],
 "metadata": {
  "kernelspec": {
   "display_name": "Python 3",
   "language": "python",
   "name": "python3"
  },
  "language_info": {
   "codemirror_mode": {
    "name": "ipython",
    "version": 3
   },
   "file_extension": ".py",
   "mimetype": "text/x-python",
   "name": "python",
   "nbconvert_exporter": "python",
   "pygments_lexer": "ipython3",
   "version": "3.8.3"
  }
 },
 "nbformat": 4,
 "nbformat_minor": 4
}
